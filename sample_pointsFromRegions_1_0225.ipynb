{
 "cells": [
  {
   "cell_type": "markdown",
   "metadata": {},
   "source": [
    "**update 20250225**\n",
    "\n",
    "polygon转point时出现时间对照不上问题，没有按照date格式直接保存。\n",
    "--> geopandas转换时无法转换为date,手动在arcgis中调整\n",
    "增加最低采样点数"
   ]
  },
  {
   "cell_type": "code",
   "execution_count": 1,
   "metadata": {},
   "outputs": [],
   "source": [
    "\n",
    "import geopandas as gpd\n",
    "import shapely\n",
    "import random\n",
    "import datetime"
   ]
  },
  {
   "cell_type": "code",
   "execution_count": 2,
   "metadata": {},
   "outputs": [],
   "source": [
    "def compute_sample_count(area, min_samples=8, max_samples=100):\n",
    "    \"\"\"根据多边形面积计算采样点数量，确保数量不会太多\"\"\"\n",
    "    scaled_samples = int(area * 300)  # 可以调整比例因子\n",
    "    return max(min_samples, min(scaled_samples, max_samples))  # 限制范围"
   ]
  },
  {
   "cell_type": "code",
   "execution_count": 3,
   "metadata": {},
   "outputs": [],
   "source": [
    "def generate_sample_points(geometry, num_samples):\n",
    "    \"\"\"在多边形内部生成随机点\"\"\"\n",
    "    minx, miny, maxx, maxy = geometry.bounds\n",
    "    points = []\n",
    "    while len(points) < num_samples:\n",
    "        p = shapely.geometry.Point(random.uniform(minx, maxx), random.uniform(miny, maxy))\n",
    "        if geometry.contains(p):  # 确保点在多边形内\n",
    "            points.append(p)\n",
    "    return points"
   ]
  },
  {
   "cell_type": "code",
   "execution_count": 4,
   "metadata": {},
   "outputs": [],
   "source": [
    "# Load the shapefile with geopandas\n",
    "shapefile_path = r\"E:\\Sea Ice Classification\\AI4ArcticASIP Sea ice Dataset version2\\2018.910\\Sample_20180910\\Sample_20180910_lead_addition.shp\"\n",
    "gdf = gpd.read_file(shapefile_path)"
   ]
  },
  {
   "cell_type": "code",
   "execution_count": 5,
   "metadata": {},
   "outputs": [
    {
     "name": "stdout",
     "output_type": "stream",
     "text": [
      "采样点 Shapefile 已保存到: E:/Sea Ice Classification/AI4ArcticASIP Sea ice Dataset version2/2018.910/Sample_20180910/Sample_20180910_lead_addition_Points.shp\n",
      "采样点 CSV 已保存到: E:/Sea Ice Classification/AI4ArcticASIP Sea ice Dataset version2/2018.910/Sample_20180910/Sample_20180910_lead_addition_Points.csv\n"
     ]
    }
   ],
   "source": [
    "# 创建采样点并保留属性\n",
    "sampled_points = []\n",
    "for _, row in gdf.iterrows():\n",
    "    num_samples = compute_sample_count(row.geometry.area)  # 计算需要生成的点数\n",
    "    points = generate_sample_points(row.geometry, num_samples)\n",
    "   \n",
    "    for point in points:\n",
    "       \n",
    "        sampled_points.append({\n",
    "            \"geometry\": point,\n",
    "            \"source\": row[\"source\"],\n",
    "            \"time_t\": row[\"time\"],\n",
    "            \"stage\": row[\"stage\"],\n",
    "            \"class\": row[\"class\"],\n",
    "            \"class_name\": row[\"class_name\"],\n",
    "            \"CC\": row[\"CC\"],\n",
    "            \"form\": row[\"form\"]\n",
    "        })\n",
    "\n",
    "# 转换为 GeoDataFrame\n",
    "points_gdf = gpd.GeoDataFrame(sampled_points, crs=gdf.crs)\n",
    "\n",
    "# 保存 Shapefile（适用于 GEE）\n",
    "output_shp_path = \"E:/Sea Ice Classification/AI4ArcticASIP Sea ice Dataset version2/2018.910/Sample_20180910/Sample_20180910_lead_addition_Points.shp\"\n",
    "points_gdf.to_file(output_shp_path)\n",
    "\n",
    "# 也可以保存为 CSV（适用于 GEE）\n",
    "output_csv_path = \"E:/Sea Ice Classification/AI4ArcticASIP Sea ice Dataset version2/2018.910/Sample_20180910/Sample_20180910_lead_addition_Points.csv\"\n",
    "points_gdf.drop(columns=\"geometry\").to_csv(output_csv_path, index=False)\n",
    "\n",
    "print(f\"采样点 Shapefile 已保存到: {output_shp_path}\")\n",
    "print(f\"采样点 CSV 已保存到: {output_csv_path}\")"
   ]
  },
  {
   "cell_type": "code",
   "execution_count": 7,
   "metadata": {},
   "outputs": [
    {
     "name": "stdout",
     "output_type": "stream",
     "text": [
      "object\n"
     ]
    }
   ],
   "source": [
    "print(points_gdf['time_t'].dtype)  # 检查 time 列的类型"
   ]
  }
 ],
 "metadata": {
  "kernelspec": {
   "display_name": "geo_env",
   "language": "python",
   "name": "python3"
  },
  "language_info": {
   "codemirror_mode": {
    "name": "ipython",
    "version": 3
   },
   "file_extension": ".py",
   "mimetype": "text/x-python",
   "name": "python",
   "nbconvert_exporter": "python",
   "pygments_lexer": "ipython3",
   "version": "3.9.21"
  }
 },
 "nbformat": 4,
 "nbformat_minor": 2
}
