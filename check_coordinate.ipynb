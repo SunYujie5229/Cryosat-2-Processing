{
 "cells": [
  {
   "cell_type": "code",
   "execution_count": 11,
   "metadata": {},
   "outputs": [
    {
     "name": "stdout",
     "output_type": "stream",
     "text": [
      "CRS: None\n",
      "Transform: | 1.00, 0.00, 0.00|\n",
      "| 0.00, 1.00, 0.00|\n",
      "| 0.00, 0.00, 1.00|\n"
     ]
    }
   ],
   "source": [
    "import rasterio\n",
    "\n",
    "#raster_path = r\"E:\\Sea Ice Classification\\AI4ArcticASIP Sea ice Dataset version2\\2018.910\\subNC\\tiff_polygon_icechart\\20180903T082725_S1B_AMSR2_IcechartGreenlandNorthEast_Polygon.tif\"\n",
    "raster_path = r\"E:\\Sea Ice Classification\\AI4ArcticASIP Sea ice Dataset version2\\2018.910\\subNC\\tiff_SAR\\20180903T082725_S1B_AMSR2_IcechartGreenlandNorthEast_SAR.tif\"\n",
    "with rasterio.open(raster_path) as dataset:\n",
    "    print(\"CRS:\", dataset.crs)  # Check CRS\n",
    "    print(\"Transform:\", dataset.transform)  # Check affine transform\n"
   ]
  },
  {
   "cell_type": "code",
   "execution_count": 12,
   "metadata": {},
   "outputs": [
    {
     "name": "stdout",
     "output_type": "stream",
     "text": [
      "CRS assigned and saved successfully!\n"
     ]
    }
   ],
   "source": [
    "from osgeo import gdal\n",
    "\n",
    "# Define file path\n",
    "tif_path = raster_path\n",
    "output_path =  r\"E:\\Sea Ice Classification\\AI4ArcticASIP Sea ice Dataset version2\\2018.910\\subNC\\tiff_SAR\\20180903T082725_S1B_AMSR2_IcechartGreenlandNorthEast_SAR_CRS.tif\" # Save as a new file\n",
    "\n",
    "# Open dataset\n",
    "dataset = gdal.Open(tif_path, gdal.GA_Update)\n",
    "\n",
    "# Assign CRS (Make sure it's written)\n",
    "gdal.Warp(output_path, dataset, dstSRS=\"EPSG:4326\")\n",
    "\n",
    "# Close dataset\n",
    "dataset = None\n",
    "\n",
    "print(\"CRS assigned and saved successfully!\")\n"
   ]
  },
  {
   "cell_type": "code",
   "execution_count": 13,
   "metadata": {},
   "outputs": [
    {
     "name": "stdout",
     "output_type": "stream",
     "text": [
      "CRS: EPSG:4326\n",
      "Transform: | 0.00, 0.00,-30.10|\n",
      "| 0.00,-0.00, 76.33|\n",
      "| 0.00, 0.00, 1.00|\n"
     ]
    }
   ],
   "source": [
    "import rasterio\n",
    "\n",
    "with rasterio.open(output_path) as dataset:\n",
    "    print(\"CRS:\", dataset.crs)  # Check CRS\n",
    "    print(\"Transform:\", dataset.transform)  # Check affine transform\n"
   ]
  },
  {
   "cell_type": "markdown",
   "metadata": {},
   "source": [
    "check shp coordinate"
   ]
  },
  {
   "cell_type": "code",
   "execution_count": 1,
   "metadata": {},
   "outputs": [
    {
     "name": "stdout",
     "output_type": "stream",
     "text": [
      "CRS: EPSG:4326\n",
      "CRS already defined\n",
      "CRS: EPSG:4326\n"
     ]
    }
   ],
   "source": [
    "import rasterio\n",
    "import fiona\n",
    "from fiona.crs import from_epsg\n",
    "\n",
    "#raster_path = r\"E:\\Sea Ice Classification\\AI4ArcticASIP Sea ice Dataset version2\\2018.910\\subNC\\tiff_polygon_icechart\\20180903T082725_S1B_AMSR2_IcechartGreenlandNorthEast_Polygon.tif\"\n",
    "shp_path = r\"C:\\Users\\TJ002\\Desktop\\Landfast ice data\\shp file\\Beaufort_sea_sample_region.shp\"\n",
    "\n",
    "# Check CRS of shapefile\n",
    "with fiona.open(shp_path) as shp:\n",
    "    print(\"CRS:\", shp.crs)\n",
    "\n",
    "# Define CRS if not present\n",
    "with fiona.open(shp_path, 'r') as shp:\n",
    "    if not shp.crs:\n",
    "        shp.close()\n",
    "        with fiona.open(shp_path, 'w', crs=from_epsg(4326)) as shp_write:\n",
    "            print(\"CRS defined as EPSG:4326\")\n",
    "    else:\n",
    "        print(\"CRS already defined\")\n",
    "    print(\"CRS:\", shp.crs)  # Check CRS"
   ]
  },
  {
   "cell_type": "code",
   "execution_count": null,
   "metadata": {},
   "outputs": [
    {
     "name": "stdout",
     "output_type": "stream",
     "text": [
      "Shapefile converted to GeoJSON and saved to C:\\Users\\TJ002\\Desktop\\Landfast ice data\\shp file\\Greenland_North.geojson\n"
     ]
    }
   ],
   "source": [
    "import fiona\n",
    "import json\n",
    "\n",
    "# Define the output path for the GeoJSON file\n",
    "geojson_path = shp_path.replace('.shp', '.json')\n",
    "\n",
    "# Read the shapefile and write to GeoJSON\n",
    "with fiona.open(shp_path, 'r') as shp:\n",
    "    with fiona.open(geojson_path, 'w', driver='GeoJSON', crs=shp.crs, schema=shp.schema) as geojson:\n",
    "        for feature in shp:\n",
    "            geojson.write(feature)\n",
    "\n",
    "print(f\"Shapefile converted to GeoJSON and saved to {geojson_path}\")"
   ]
  },
  {
   "cell_type": "code",
   "execution_count": 3,
   "metadata": {},
   "outputs": [
    {
     "name": "stdout",
     "output_type": "stream",
     "text": [
      "转换完成，GeoJSON 文件保存在 C:\\Users\\TJ002\\Desktop\\Landfast ice data\\shp file\\Beaufort_sea_sample_region.geojson\n"
     ]
    }
   ],
   "source": [
    "import geopandas as gpd\n",
    "\n",
    "\n",
    "gdf = gpd.read_file(shp_path)\n",
    "\n",
    "# 保存为 JSON 文件（FeatureCollection 格式）\n",
    "json_path = shp_path.replace('.shp', '.json')\n",
    "gdf.to_file(json_path, driver=\"GeoJSON\")\n",
    "\n",
    "# Define the output path for the GeoJSON file\n",
    "geojson_path = shp_path.replace('.shp', '.geojson')\n",
    "from shapely.geometry import MultiPolygon\n",
    "\n",
    "# 统一转换为 MultiPolygon\n",
    "gdf[\"geometry\"] = gdf[\"geometry\"].apply(lambda geom: MultiPolygon([geom]) if geom.geom_type == \"Polygon\" else geom)\n",
    "gdf.to_file(geojson_path, driver=\"GeoJSON\")\n",
    "\n",
    "print(f\"转换完成，GeoJSON 文件保存在 {geojson_path}\")\n"
   ]
  },
  {
   "cell_type": "markdown",
   "metadata": {},
   "source": [
    "CS2eo无法识别geojson, still 识别不了"
   ]
  },
  {
   "cell_type": "code",
   "execution_count": 5,
   "metadata": {},
   "outputs": [
    {
     "name": "stdout",
     "output_type": "stream",
     "text": [
      "转换完成，GeoJSON 文件已保存。\n"
     ]
    }
   ],
   "source": [
    "import json\n",
    "gdf = gpd.read_file(shp_path)\n",
    "# 构造 FeatureCollection\n",
    "geojson_dict = {\n",
    "    \"type\": \"FeatureCollection\",\n",
    "    \"features\": json.loads(gdf.to_json())[\"features\"]\n",
    "}\n",
    "\n",
    "# 保存为 GeoJSON 文件\n",
    "with open(geojson_path, \"w\", encoding=\"utf-8\") as f:\n",
    "    json.dump(geojson_dict, f, ensure_ascii=False, indent=2)\n",
    "\n",
    "print(\"转换完成，GeoJSON 文件已保存。\")"
   ]
  }
 ],
 "metadata": {
  "kernelspec": {
   "display_name": "geo_env",
   "language": "python",
   "name": "python3"
  },
  "language_info": {
   "codemirror_mode": {
    "name": "ipython",
    "version": 3
   },
   "file_extension": ".py",
   "mimetype": "text/x-python",
   "name": "python",
   "nbconvert_exporter": "python",
   "pygments_lexer": "ipython3",
   "version": "3.9.21"
  }
 },
 "nbformat": 4,
 "nbformat_minor": 2
}
