{
 "cells": [
  {
   "cell_type": "code",
   "execution_count": 1,
   "metadata": {},
   "outputs": [
    {
     "name": "stdout",
     "output_type": "stream",
     "text": [
      "Data from 20180903T082725_S1B_AMSR2_IcechartGreenlandNorthEast_PolygonCodes.csv has been separated into columns and saved as E:\\Sea Ice Classification\\AI4ArcticASIP Sea ice Dataset version2\\2018.910\\subNC\\csv_output\\separated_20180903T082725_S1B_AMSR2_IcechartGreenlandNorthEast_PolygonCodes.csv.\n",
      "Data from 20180910T081814_S1B_AMSR2_IcechartGreenlandNorthEast_PolygonCodes.csv has been separated into columns and saved as E:\\Sea Ice Classification\\AI4ArcticASIP Sea ice Dataset version2\\2018.910\\subNC\\csv_output\\separated_20180910T081814_S1B_AMSR2_IcechartGreenlandNorthEast_PolygonCodes.csv.\n",
      "Data from 20180910T081914_S1B_AMSR2_IcechartGreenlandNorthEast_PolygonCodes.csv has been separated into columns and saved as E:\\Sea Ice Classification\\AI4ArcticASIP Sea ice Dataset version2\\2018.910\\subNC\\csv_output\\separated_20180910T081914_S1B_AMSR2_IcechartGreenlandNorthEast_PolygonCodes.csv.\n",
      "Data from 20180911T184432_S1B_AMSR2_IcechartGreenlandCentralEast_PolygonCodes.csv has been separated into columns and saved as E:\\Sea Ice Classification\\AI4ArcticASIP Sea ice Dataset version2\\2018.910\\subNC\\csv_output\\separated_20180911T184432_S1B_AMSR2_IcechartGreenlandCentralEast_PolygonCodes.csv.\n",
      "Data from 20180914T074628_S1B_AMSR2_IcechartGreenlandCentralEast_PolygonCodes.csv has been separated into columns and saved as E:\\Sea Ice Classification\\AI4ArcticASIP Sea ice Dataset version2\\2018.910\\subNC\\csv_output\\separated_20180914T074628_S1B_AMSR2_IcechartGreenlandCentralEast_PolygonCodes.csv.\n",
      "Data from 20180929T081103_S1B_AMSR2_IcechartGreenlandCentralEast_PolygonCodes.csv has been separated into columns and saved as E:\\Sea Ice Classification\\AI4ArcticASIP Sea ice Dataset version2\\2018.910\\subNC\\csv_output\\separated_20180929T081103_S1B_AMSR2_IcechartGreenlandCentralEast_PolygonCodes.csv.\n",
      "Data from 20180924T080254_S1B_AMSR2_IcechartGreenlandCentralEast_PolygonCodes.csv has been separated into columns and saved as E:\\Sea Ice Classification\\AI4ArcticASIP Sea ice Dataset version2\\2018.910\\subNC\\csv_output\\separated_20180924T080254_S1B_AMSR2_IcechartGreenlandCentralEast_PolygonCodes.csv.\n",
      "Data from 20180915T082725_S1B_AMSR2_IcechartGreenlandCentralEast_PolygonCodes.csv has been separated into columns and saved as E:\\Sea Ice Classification\\AI4ArcticASIP Sea ice Dataset version2\\2018.910\\subNC\\csv_output\\separated_20180915T082725_S1B_AMSR2_IcechartGreenlandCentralEast_PolygonCodes.csv.\n",
      "Data from 20181004T180321_S1B_AMSR2_IcechartGreenlandCentralEast_PolygonCodes.csv has been separated into columns and saved as E:\\Sea Ice Classification\\AI4ArcticASIP Sea ice Dataset version2\\2018.910\\subNC\\csv_output\\separated_20181004T180321_S1B_AMSR2_IcechartGreenlandCentralEast_PolygonCodes.csv.\n",
      "Data from 20181009T181232_S1B_AMSR2_IcechartGreenlandNorthAndCentralEast_PolygonCodes.csv has been separated into columns and saved as E:\\Sea Ice Classification\\AI4ArcticASIP Sea ice Dataset version2\\2018.910\\subNC\\csv_output\\separated_20181009T181232_S1B_AMSR2_IcechartGreenlandNorthAndCentralEast_PolygonCodes.csv.\n",
      "Data from 20181022T180529_S1A_AMSR2_IcechartGreenlandNorthAndCentralEast_PolygonCodes.csv has been separated into columns and saved as E:\\Sea Ice Classification\\AI4ArcticASIP Sea ice Dataset version2\\2018.910\\subNC\\csv_output\\separated_20181022T180529_S1A_AMSR2_IcechartGreenlandNorthAndCentralEast_PolygonCodes.csv.\n",
      "Data from 20181023T121709_S1A_AMSR2_IcechartGreenlandNorthWest_PolygonCodes.csv has been separated into columns and saved as E:\\Sea Ice Classification\\AI4ArcticASIP Sea ice Dataset version2\\2018.910\\subNC\\csv_output\\separated_20181023T121709_S1A_AMSR2_IcechartGreenlandNorthWest_PolygonCodes.csv.\n",
      "Data from 20181023T121814_S1A_AMSR2_IcechartGreenlandNorthWest_PolygonCodes.csv has been separated into columns and saved as E:\\Sea Ice Classification\\AI4ArcticASIP Sea ice Dataset version2\\2018.910\\subNC\\csv_output\\separated_20181023T121814_S1A_AMSR2_IcechartGreenlandNorthWest_PolygonCodes.csv.\n"
     ]
    }
   ],
   "source": [
    "import pandas as pd\n",
    "import os\n",
    "\n",
    "# Path to your folder containing CSV files\n",
    "folder_path = r'E:\\Sea Ice Classification\\AI4ArcticASIP Sea ice Dataset version2\\2018.910\\subNC\\csv_output'  # Replace with your actual folder path\n",
    "\n",
    "# Loop through all files in the folder\n",
    "for file_name in os.listdir(folder_path):\n",
    "    if file_name.endswith('.csv'):\n",
    "        file_path = os.path.join(folder_path, file_name)\n",
    "        \n",
    "        # Load the CSV file\n",
    "        df = pd.read_csv(file_path)\n",
    "        \n",
    "        # Split the 'Code' column by the semicolon delimiter\n",
    "        df_split = df['Code'].str.split(';', expand=True)\n",
    "        \n",
    "        # Rename the new columns based on your header information\n",
    "        df_split.columns = ['id', 'CT', 'CA', 'SA', 'FA', 'CB', 'SB', 'FB', 'CC', 'SC', 'FC', 'CN', 'CD', 'CF', 'POLY_TYPE']\n",
    "        \n",
    "        # Concatenate the original index with the newly split columns\n",
    "        final_df = pd.concat([df['Index'], df_split], axis=1)\n",
    "        \n",
    "        # Save the new dataframe to a CSV\n",
    "        output_file_path = os.path.join(folder_path, f'separated_{file_name}')\n",
    "        final_df.to_csv(output_file_path, index=False)\n",
    "        \n",
    "        print(f\"Data from {file_name} has been separated into columns and saved as {output_file_path}.\")"
   ]
  }
 ],
 "metadata": {
  "kernelspec": {
   "display_name": "RadarEnv",
   "language": "python",
   "name": "python3"
  },
  "language_info": {
   "codemirror_mode": {
    "name": "ipython",
    "version": 3
   },
   "file_extension": ".py",
   "mimetype": "text/x-python",
   "name": "python",
   "nbconvert_exporter": "python",
   "pygments_lexer": "ipython3",
   "version": "3.8.18"
  }
 },
 "nbformat": 4,
 "nbformat_minor": 2
}
